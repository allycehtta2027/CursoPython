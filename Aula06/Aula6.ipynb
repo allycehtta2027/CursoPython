{
 "cells": [
  {
   "cell_type": "code",
   "execution_count": null,
   "metadata": {},
   "outputs": [],
   "source": [
    "cont = 0\n",
    "\n",
    "while cont < 10:\n",
    "    cont += 1\n",
    "    if cont % 2 == 0:\n",
    "        print(cont)\n",
    "    else:\n",
    "        continue\n",
    "\n",
    "    print('Contando...')\n",
    "        "
   ]
  },
  {
   "cell_type": "markdown",
   "metadata": {},
   "source": [
    "cont = 0\n",
    "\n",
    "while cont < 15:\n",
    "    cont += 1\n",
    "    if cont % 2 ==0:\n",
    "        print(cont)\n",
    "    elif cont >    "
   ]
  },
  {
   "cell_type": "markdown",
   "metadata": {},
   "source": [
    " loop\n",
    "while True:\n",
    "    # entrada do nome\n",
    "    nome = input('Informe seu nome ou deixe em branco para sair: ')\n",
    "\n",
    "# verifica se o valor foi informado ou não\n",
    "if nome != '':\n",
    "    # entrada da idade\n",
    "    idade = int(input('Informe a sua idade: ')) \n",
    "\n",
    " # verificação da idade\n",
    " if idade >=18:\n",
    "    print(f'{nome} é maior de idade.')\n",
    " else:\n",
    "    print(f'{nome} é menor de idade.') \n",
    "\n",
    " continue # retorna ao inicio do loop\n",
    "else:\n",
    " break # encerra o loop{\n",
    "\n",
    "\n",
    "\n",
    "\n",
    "}\n",
    "\n",
    "           "
   ]
  },
  {
   "cell_type": "code",
   "execution_count": null,
   "metadata": {},
   "outputs": [],
   "source": [
    "    \n",
    "\t\"name\": \"IndentationError\",\n",
    "\t\"message\": \"unindent does not match any outer indentation level (<string>, line 12)\",\n",
    "\t\"stack\": \"  File <string>:12\n",
    "    if idade >=18:\n",
    "                  ^\n",
    "IndentationError: unindent does not match any outer indentation level\n",
    "\""
   ]
  },
  {
   "cell_type": "markdown",
   "metadata": {},
   "source": [
    "while True:\n",
    "opcao = input('Deseja calcular um IMC? (s/n): ').lower()\n",
    "\n",
    "if opcao == 's':\n",
    "    ...\n",
    "else:\n",
    "    print('Ok, saindo do sistema')\n",
    "    break    "
   ]
  },
  {
   "cell_type": "markdown",
   "metadata": {},
   "source": [
    "{\n",
    "\t\"name\": \"SyntaxError\",\n",
    "\t\"message\": \"invalid syntax (3100708131.py, line 1)\",\n",
    "\t\"stack\": \"  Cell In[15], line 1\n",
    "    wile True:\n",
    "         ^\n",
    "SyntaxError: invalid syntax\n",
    "\"\n",
    "}"
   ]
  },
  {
   "cell_type": "markdown",
   "metadata": {},
   "source": [
    "Desafio da calculadora"
   ]
  },
  {
   "cell_type": "markdown",
   "metadata": {},
   "source": [
    "while True:\n",
    "    opcao = input('Deseja realizar algum calculo: (s/n) ').lower()\n",
    "    if opcao == 's':\n",
    "      print(20*'-','Calculadora basica',20'-')\n",
    "      num1=input('Digite o primeiro número: ')\n",
    "      num2 = input('Digite o segundo número: ')\n",
    "      num1 = float(num1)\n",
    "      num2 = float(num2)\n",
    "      operacao = input('Digite a operação que deseja realizar:'(+),(-),(/),(*)')\n",
    "      if operacao == '+':\n",
    "            print(f'A soma dos números {num1} + {num2} = {num1+num2}')  \n",
    "      elif operacao == '-':\n",
    "            print(f' A subtração dos números {num1} - {num2} = {num1-num2}')          \n",
    "      elif operacao == '/':\n",
    "            print(f' A divisão dos números {num1} / {num2} = {num1/num2}')     \n",
    "      elif operacao == '*':\n",
    "            print(f' A multiplicação dos números {num1} * {num2} = {num1*num2}')...\n",
    "    else:\n",
    "         print('Finalisando o sistema')\n",
    "         break"
   ]
  },
  {
   "cell_type": "markdown",
   "metadata": {},
   "source": [
    "{\n",
    "\t\"name\": \"SyntaxError\",\n",
    "\t\"message\": \"unterminated string literal (detected at line 9) (1488496613.py, line 9)\",\n",
    "\t\"stack\": \"  Cell In[21], line 9\n",
    "    operacao = input('Digite a operação que deseja realizar:'(+),(-),(/),(*)')\n",
    "                                                                            ^\n",
    "SyntaxError: unterminated string literal (detected at line 9)\n",
    "\"\n",
    "}"
   ]
  },
  {
   "cell_type": "markdown",
   "metadata": {},
   "source": [
    "DESAFIO DO CINEMA"
   ]
  },
  {
   "cell_type": "markdown",
   "metadata": {},
   "source": [
    "idade = int(input('Informe a sua idade: ')) \n",
    "if idade >=18:\n",
    "    print(f'{nome} .')\n",
    " else:\n",
    "    print(f'{nome} ')\n",
    "\n",
    "sala1 = input('Meu Malvado Favorito 2: ')\n",
    "sala2 = input('Bad Boys 4: ')\n",
    "sala3 = input('Divertida Mente 2: ')\n",
    "sala4 = input('Tô de Graça: ')\n",
    "sala5 = input('MaXXXine: ')"
   ]
  }
 ],
 "metadata": {
  "language_info": {
   "name": "python"
  }
 },
 "nbformat": 4,
 "nbformat_minor": 2
}
