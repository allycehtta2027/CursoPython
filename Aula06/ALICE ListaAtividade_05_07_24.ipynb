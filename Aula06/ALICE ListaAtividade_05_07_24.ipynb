{
 "cells": [
  {
   "cell_type": "markdown",
   "metadata": {},
   "source": [
    "## Operador ternário\n",
    "- Usar operador ternário quando as alternativas forem pequenas, e quando tiver apenas 2 ou no máximo 3 alternativas.\n",
    "- No exemplo a variável precisa ser inteira"
   ]
  },
  {
   "cell_type": "code",
   "execution_count": 10,
   "metadata": {},
   "outputs": [
    {
     "name": "stdout",
     "output_type": "stream",
     "text": [
      "karython é maior de idade.\n"
     ]
    }
   ],
   "source": [
    "nome = 'karython'\n",
    "idade = 18\n",
    "\n",
    "print(nome, 'é maior de idade.' if idade >= 18 else 'é menor de idade')"
   ]
  },
  {
   "cell_type": "markdown",
   "metadata": {},
   "source": [
    "## Replace\n",
    "- substituir"
   ]
  },
  {
   "cell_type": "code",
   "execution_count": 11,
   "metadata": {},
   "outputs": [
    {
     "name": "stdout",
     "output_type": "stream",
     "text": [
      "<class 'str'>\n",
      "<class 'float'>\n"
     ]
    }
   ],
   "source": [
    "peso = input(\"Digite seu peso: \").replace(',','.')\n",
    "print(type(peso))\n",
    "peso = float(peso)\n",
    "print(type(peso))\n"
   ]
  },
  {
   "cell_type": "markdown",
   "metadata": {},
   "source": [
    "## Desafio 01\n",
    "- Crie um programa para fazer a verificação de um cliente para saber se ele pode usar o brinquedo ou não.\n",
    "    - Para brincar ele precisa:\n",
    "        - ter mais que 12 anos\n",
    "        - ter altura minima de 1,20 mts"
   ]
  },
  {
   "cell_type": "code",
   "execution_count": 6,
   "metadata": {},
   "outputs": [
    {
     "name": "stdout",
     "output_type": "stream",
     "text": [
      "pode brincar \n"
     ]
    }
   ],
   "source": [
    "# TODO: Resposta desafio 01\n",
    "# lembrar de que quando for numero fazer a convenção no input . ex: int(input( 'Digite a idade; '))\n",
    "# agora para pontos flutuantes ( float ) ex: \n",
    "usuario =input( 'Digite a idade; ')\n",
    "altura = input('Digite a altura ')\n",
    "\n",
    "usuario = int (usuario)\n",
    "altura= float (altura)\n",
    "\n",
    "\n",
    "if usuario >= 12 and altura >= 1.20 :\n",
    "    print('pode brincar ')\n",
    "else:\n",
    "    print('nao pode brincar')\n",
    "\n",
    "\n",
    "\n"
   ]
  },
  {
   "cell_type": "markdown",
   "metadata": {},
   "source": [
    "## Desafio 02\n",
    "- Crie um programa que verifica se o aluno poderar ir a praia.\n",
    "    - Para ir a praia ele precisa:\n",
    "        - Verifica se acordei de bom humor\n",
    "        - Verifica se o pai ja chegou em casa para leva-lo"
   ]
  },
  {
   "cell_type": "code",
   "execution_count": null,
   "metadata": {},
   "outputs": [],
   "source": [
    "# TODO: Resposta desafio 02\n",
    "humor = input(\" voce acordou de bom humor!\\ndigite sim ou não \").lower()\n",
    "pai = input(\" o pai chegou em casa!\\ndigite sim ou não \").lower()\n",
    "\n",
    "if (humor and pai == \"sim\"):\n",
    "    print('você pode ir a praia')\n",
    "else:\n",
    "    print('voce não pode ir a praia')\n"
   ]
  },
  {
   "cell_type": "markdown",
   "metadata": {},
   "source": [
    "## Desafio 03\n",
    "- Crie um programa que calcule o indice de massa corporal de um usuário\n",
    "    - pegue os valores de altura e peso\n",
    "        - use a conversão de valores\n",
    "        - use replace\n",
    "        - imprima se ele esta acima do peso ou nao\n",
    "\n",
    "## Desafio 04\n",
    "- Crie uma calculadora de IMC\n",
    "    - Imprima as seguintes condições:?\n",
    "        - imc <17: está com anorexia.\n",
    "        - imc <18.5: está abaixo do peso\n",
    "        - imc <25: está no peso ideal.\n",
    "        - imc <30: está acima do peso.\n",
    "        - imc <35: está com grau de obesidade I.\n",
    "        - imc <40: está com grau de obesidade II.\n",
    "        - imc: está com grau de obesidade mórbida.        "
   ]
  },
  {
   "cell_type": "code",
   "execution_count": null,
   "metadata": {},
   "outputs": [],
   "source": [
    "# TODO: Resposta desafio 3\n",
    "\n",
    "altura=input (* Digite o seu peso:). replace(',',',')\n",
    "altura= float(altura)\n",
    "\n",
    "imc = peso/ (altura ** 2)\n",
    "\n",
    "if imc<17:\n",
    "    print(\"Está com anorexia\")\n",
    "elif imc>= 17 and imc < 18.5:\n",
    "    print(\" Esta abaixo do peso\")\n",
    "elif imc>= 18.5 and imc < 25:\n",
    "    print(\"Está no peso ideal\")\n",
    "elif imc>=25 and imc<30:\n",
    "    print (\"Esta acima do peso.\")\n",
    "elif imc >=30 and imc<35:\n",
    "    print(\"Está com grau de obesidade I.\")\n",
    "elif imc >=35 and imc < 40:\n",
    "    print (\"E esta com grau de obesidade II.\")\n",
    "else:\n",
    "    print(\"Esta com grau de obesidade morbida.\")\n",
    "    \n",
    "          \n",
    "\n",
    "\n",
    "  \n"
   ]
  },
  {
   "cell_type": "markdown",
   "metadata": {},
   "source": [
    "## Desafio 05\n",
    "- Crie uma calculadora basica.\n",
    "    - Solicite 2 números do usuário e pergunte qual operação matemática ele deseja fazer.\n",
    "        -   +; -; /; *\n",
    "        - imprima o resultado correto para cada operação"
   ]
  },
  {
   "cell_type": "code",
   "execution_count": 1,
   "metadata": {},
   "outputs": [
    {
     "name": "stdout",
     "output_type": "stream",
     "text": [
      "O resultado da soma de 10 + 2 é: 12\n",
      "O resultado da subtração de 10 - 2 é: 8\n",
      "O resultado da divisão de 10 / 2 é: 5.0\n",
      "O resultado da multiplicação de 10 * 2 é: 20\n"
     ]
    }
   ],
   "source": [
    "# TODO: Resposta desafio 05 TODO: Resposta desafio 05\n",
    "num1 = int(input(\"Digite primeiro numero: \"))\n",
    "num2 = int(input(\"Digite segundo numero: \"))\n",
    "\n",
    "soma = num1 + num2\n",
    "subtração = num1 - num2\n",
    "divisão = num1 / num2\n",
    "multiplicação = num1 * num2\n",
    "\n",
    "print(f'O resultado da soma de {num1} + {num2} é: {soma}')\n",
    "print(f'O resultado da subtração de {num1} - {num2} é: {subtração}')\n",
    "print(f'O resultado da divisão de {num1} / {num2} é: {divisão}')\n",
    "print(f'O resultado da multiplicação de {num1} * {num2} é: {multiplicação}')\n"
   ]
  }
 ],
 "metadata": {
  "kernelspec": {
   "display_name": "Python 3",
   "language": "python",
   "name": "python3"
  },
  "language_info": {
   "codemirror_mode": {
    "name": "ipython",
    "version": 3
   },
   "file_extension": ".py",
   "mimetype": "text/x-python",
   "name": "python",
   "nbconvert_exporter": "python",
   "pygments_lexer": "ipython3",
   "version": "3.12.4"
  }
 },
 "nbformat": 4,
 "nbformat_minor": 2
}
