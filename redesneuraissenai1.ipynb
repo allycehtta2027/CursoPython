{
  "nbformat": 4,
  "nbformat_minor": 0,
  "metadata": {
    "colab": {
      "provenance": [],
      "authorship_tag": "ABX9TyNr9P2iOc1x9fC1AwaTyu13",
      "include_colab_link": true
    },
    "kernelspec": {
      "name": "python3",
      "display_name": "Python 3"
    },
    "language_info": {
      "name": "python"
    }
  },
  "cells": [
    {
      "cell_type": "markdown",
      "metadata": {
        "id": "view-in-github",
        "colab_type": "text"
      },
      "source": [
        "<a href=\"https://colab.research.google.com/github/allycehtta2027/CursoPython/blob/main/redesneuraissenai1.ipynb\" target=\"_parent\"><img src=\"https://colab.research.google.com/assets/colab-badge.svg\" alt=\"Open In Colab\"/></a>"
      ]
    },
    {
      "cell_type": "markdown",
      "source": [
        "1.Precisamos verificar a abertura da boca, porque quase ninguém dorme sorrindo ou gargalhando. 2.Geralmente, as pessoas dormem com o rosto relaxado. 3.Agora fecharemos a janela de vídeo e calcularemos a abertura da boca. 4.Para isso, utilizamos os pontos da boca mostrou aberto - ao abrir a boca, mostrou fechado - ao fechar a boca, tocou alarme - ao abrir a boca, inserir mudanças de core s e alinhamentos mostrar o Mar e com códigos para tocar musicas de passarinhos"
      ],
      "metadata": {
        "id": "9GnYSlXVNkDY"
      }
    },
    {
      "cell_type": "markdown",
      "source": [
        "opencv-python: biblioteca de visão computacional.\n",
        "dlib: biblioteca de aprendizado de máquina e visão computacional.\n",
        "numpy: biblioteca de álgebra linear e manipulação de arrays.\n",
        "sounddevice: biblioteca para reprodução e gravação de áudio.\n",
        "scipy: biblioteca para computação científica."
      ],
      "metadata": {
        "id": "4Q7KmBz9fuLX"
      }
    },
    {
      "cell_type": "code",
      "source": [
        "pip install opencv-python"
      ],
      "metadata": {
        "colab": {
          "base_uri": "https://localhost:8080/"
        },
        "id": "P2q9HW4mf1V2",
        "outputId": "9b9a8810-a651-491f-f994-fefffd1ff414"
      },
      "execution_count": 16,
      "outputs": [
        {
          "output_type": "stream",
          "name": "stdout",
          "text": [
            "Requirement already satisfied: opencv-python in /usr/local/lib/python3.10/dist-packages (4.10.0.84)\n",
            "Requirement already satisfied: numpy>=1.21.2 in /usr/local/lib/python3.10/dist-packages (from opencv-python) (1.26.4)\n"
          ]
        }
      ]
    },
    {
      "cell_type": "code",
      "execution_count": 18,
      "metadata": {
        "id": "3HD8JgMAkfRe",
        "colab": {
          "base_uri": "https://localhost:8080/"
        },
        "outputId": "209e30b9-91a3-487d-f66c-fd7ceaef6d0d"
      },
      "outputs": [
        {
          "output_type": "stream",
          "name": "stdout",
          "text": [
            "Requirement already satisfied: opencv-python in /usr/local/lib/python3.10/dist-packages (4.10.0.84)\n",
            "Requirement already satisfied: dlib in /usr/local/lib/python3.10/dist-packages (19.24.2)\n",
            "Requirement already satisfied: numpy in /usr/local/lib/python3.10/dist-packages (1.26.4)\n",
            "Requirement already satisfied: sounddevice in /usr/local/lib/python3.10/dist-packages (0.5.1)\n",
            "Requirement already satisfied: scipy in /usr/local/lib/python3.10/dist-packages (1.13.1)\n",
            "Requirement already satisfied: CFFI>=1.0 in /usr/local/lib/python3.10/dist-packages (from sounddevice) (1.17.1)\n",
            "Requirement already satisfied: pycparser in /usr/local/lib/python3.10/dist-packages (from CFFI>=1.0->sounddevice) (2.22)\n"
          ]
        }
      ],
      "source": [
        "pip install opencv-python dlib numpy sounddevice scipy\n"
      ]
    },
    {
      "cell_type": "code",
      "source": [
        "import cv2\n",
        "import dlib\n",
        "import numpy as np\n",
        "\n",
        "from scipy.io.wavfile import read\n",
        "\n",
        "# Carregar o detector de face e o preditor de pontos faciais\n",
        "detector = dlib.get_frontal_face_detector()\n",
        "predictor = dlib.shape_predictor\n",
        "\n",
        "# Função para calcular a razão da abertura da boca (MAR)\n",
        "def mouth_aspect_ratio(mouth):\n",
        "    A = np.linalg.norm(mouth[2] - mouth[10])\n",
        "    B = np.linalg.norm(mouth[4] - mouth[8])\n",
        "    return A / B\n",
        "\n",
        "# Função para calcular a razão de piscada dos olhos (EAR)\n",
        "def eye_aspect_ratio(eye):\n",
        "    A = np.linalg.norm(eye[1] - eye[5])\n",
        "    B = np.linalg.norm(eye[2] - eye[4])\n",
        "    C = np.linalg.norm(eye[0] - eye[3])\n",
        "    return (A + B) / (2.0 * C)\n",
        "\n",
        "cap = cv2.VideoCapture(0)\n",
        "\n",
        "# Função para tocar o som\n",
        "def play_bird_song():\n",
        "    sd.play(bird_song, rate)\n",
        "\n",
        "# Função para alterar a cor do rosto no vídeo\n",
        "def apply_color_effects(frame, color='blue'):\n",
        "    if color == 'blue':\n",
        "        frame[:, :] = [255, 0, 0]  # Blue filter\n",
        "    elif color == 'green':\n",
        "        frame[:, :] = [0, 255, 0]  # Green filter\n",
        "    elif color == 'red':\n",
        "        frame[:, :] = [0, 0, 255]  # Red filter\n",
        "    return frame\n",
        "\n",
        "# Iniciar a captura de vídeo\n",
        "cap = cv2.VideoCapture(0)\n",
        "\n",
        "while True:\n",
        "    # Capturar o frame da webcam\n",
        "    ret, frame = cap.read()\n",
        "    if not ret:\n",
        "        break\n",
        "\n",
        "    # Converter para escala de cinza\n",
        "    gray = cv2.cvtColor(frame, cv2.COLOR_BGR2GRAY)\n",
        "\n",
        "    # Detectar faces no frame\n",
        "    faces = detector(gray)\n",
        "\n",
        "    for face in faces:\n",
        "        # Detectar pontos faciais\n",
        "        landmarks = predictor(gray, face)\n",
        "\n",
        "        # Obter os pontos da boca (48-60)\n",
        "        mouth = []\n",
        "        for i in range(48, 61):\n",
        "            mouth.append((landmarks.part(i).x, landmarks.part(i).y))\n",
        "        mouth = np.array(mouth, dtype=np.int32)\n",
        "\n",
        "        # Obter os pontos dos olhos (36-41 e 42-47)\n",
        "        left_eye = []\n",
        "        right_eye = []\n",
        "        for i in range(36, 42):\n",
        "            left_eye.append((landmarks.part(i).x, landmarks.part(i).y))\n",
        "        for i in range(42, 48):\n",
        "            right_eye.append((landmarks.part(i).x, landmarks.part(i).y))\n",
        "        left_eye = np.array(left_eye, dtype=np.int32)\n",
        "        right_eye = np.array(right_eye, dtype=np.int32)\n",
        "\n",
        "        # Calcular o MAR (Mouth Aspect Ratio) para a boca\n",
        "        mar = mouth_aspect_ratio(mouth)\n",
        "\n",
        "        # Calcular o EAR (Eye Aspect Ratio) para os olhos (piscada)\n",
        "        ear_left = eye_aspect_ratio(left_eye)\n",
        "        ear_right = eye_aspect_ratio(right_eye)\n",
        "        ear = (ear_left + ear_right) / 2.0\n",
        "\n",
        "        # Detectar boca aberta\n",
        "        if mar > 0.5:\n",
        "            # Tocar o som dos passarinhos\n",
        "            play_bird_song()\n",
        "            # Alterar a cor do rosto (efeito visual)\n",
        "            frame = apply_color_effects(frame, color='blue')  # Mudar a cor do rosto para azul\n",
        "\n",
        "        # Detectar piscada (EAR abaixo de 0.2)\n",
        "        if ear < 0.2:\n",
        "            cv2.putText(frame, \"Piscada Detectada!\", (50, 50), cv2.FONT_HERSHEY_SIMPLEX, 1, (0, 255, 0), 2)\n",
        "\n",
        "        # Desenhar a boca no vídeo\n",
        "        cv2.polylines(frame, [mouth], isClosed=True, color=(0, 255, 0), thickness=2)\n",
        "\n",
        "        # Desenhar os olhos no vídeo\n",
        "        cv2.polylines(frame, [left_eye], isClosed=True, color=(0, 255, 255), thickness=2)\n",
        "        cv2.polylines(frame, [right_eye], isClosed=True, color=(0, 255, 255), thickness=2)\n",
        "\n",
        "\n",
        "\n",
        "\n",
        "\n",
        "\n"
      ],
      "metadata": {
        "id": "RM_6VaQrRYom"
      },
      "execution_count": 11,
      "outputs": []
    },
    {
      "cell_type": "markdown",
      "source": [
        "Sons de Pássaros:\n",
        "Vários Tipos Sons\n",
        "\n",
        "Baixar arquivos WAV gratuitos nesse site\n",
        "\n",
        "    freesound.org\n",
        "    "
      ],
      "metadata": {
        "id": "DhhzPWuphFOF"
      }
    },
    {
      "cell_type": "markdown",
      "source": [
        "https://freesound.org/"
      ],
      "metadata": {
        "id": "CTr1tscAcx6K"
      }
    },
    {
      "cell_type": "markdown",
      "source": [
        "https://freesound.org/people/JanjaBoy/sounds/702478/"
      ],
      "metadata": {
        "id": "kztPHMMvbf9-"
      }
    },
    {
      "cell_type": "code",
      "source": [],
      "metadata": {
        "id": "j3X-OwmcWrCU"
      },
      "execution_count": null,
      "outputs": []
    },
    {
      "cell_type": "markdown",
      "source": [],
      "metadata": {
        "id": "7iUArVisbjYA"
      }
    }
  ]
}