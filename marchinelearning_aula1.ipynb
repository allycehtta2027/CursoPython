{
  "nbformat": 4,
  "nbformat_minor": 0,
  "metadata": {
    "colab": {
      "provenance": [],
      "authorship_tag": "ABX9TyOxbfMyT5z5ZZ4XcL4fxK2W",
      "include_colab_link": true
    },
    "kernelspec": {
      "name": "python3",
      "display_name": "Python 3"
    },
    "language_info": {
      "name": "python"
    }
  },
  "cells": [
    {
      "cell_type": "markdown",
      "metadata": {
        "id": "view-in-github",
        "colab_type": "text"
      },
      "source": [
        "<a href=\"https://colab.research.google.com/github/allycehtta2027/CursoPython/blob/main/marchinelearning_aula1.ipynb\" target=\"_parent\"><img src=\"https://colab.research.google.com/assets/colab-badge.svg\" alt=\"Open In Colab\"/></a>"
      ]
    },
    {
      "cell_type": "code",
      "execution_count": null,
      "metadata": {
        "id": "CfiWiFrpSpoi"
      },
      "outputs": [],
      "source": []
    },
    {
      "cell_type": "markdown",
      "source": [
        "- Engenheiro de prompet\n",
        "- Geralmente os códigos gerados possuem Bad Smell\n",
        "- Github Copilot (pago)\n",
        "- Extensões do Copilot dentro do VS CODE\n",
        "- Deep Learning\n",
        "- Gemini Google - Dentro do Google Colab\n",
        "- Exemplos são as células de próprio Colab\n",
        "- Célula de Código programado manualmente\n",
        "- Célula de código programado por IA\n",
        "- Usar GPT gerando o código e colando aqui."
      ],
      "metadata": {
        "id": "2lYFJGNUWuha"
      }
    },
    {
      "cell_type": "markdown",
      "source": [
        "# Revisão Paradigma de Programação Estruturada."
      ],
      "metadata": {
        "id": "YRXbeIOZYSUI"
      }
    },
    {
      "cell_type": "code",
      "source": [
        "# variável  x, y, fx\n",
        "\" Toda a turma lembrou dessas variáveis, dizendo que aprendeu no ensino médio II\"\n",
        "\" Eu odiava isso\" - sentimento \"neg\" - 0\n",
        "\" Eu adorava isso\" - sentimento \"pos\" - 1\n",
        "\" Eu odiava porque não tinha professor bom\" - sentimento\n",
        "\"Aula\"\n",
        "\" Para entender completamente teria que ver mais de uma vez\" - subjetivo\n",
        "\" Continuei sei entender nada\" - neutro\n",
        "\" Devia ensinar mais\" - subjetivo\n",
        "\n"
      ],
      "metadata": {
        "id": "l0ssE861YdPf"
      },
      "execution_count": null,
      "outputs": []
    },
    {
      "cell_type": "markdown",
      "source": [
        "# Equação Linear"
      ],
      "metadata": {
        "id": "sJEU6pjthfC_"
      }
    },
    {
      "cell_type": "code",
      "source": [
        "# variáveis e funções\n",
        "\n",
        "# variável na programação é um espaço na memória do computador\n",
        "\n",
        "# Definindo uma variável\n",
        "x=0\n",
        "print(x)"
      ],
      "metadata": {
        "id": "rvNGvaS0hYl-"
      },
      "execution_count": 2,
      "outputs": []
    },
    {
      "cell_type": "code",
      "source": [
        "def exemplo_a_potencia(base, expoente):\n",
        "  return pow(base, expoente)\n",
        "\n",
        "print(exemplo_a_potencia(2,2))\n",
        ""
      ],
      "metadata": {
        "colab": {
          "base_uri": "https://localhost:8080/"
        },
        "id": "JXUmu8eTh6_u",
        "outputId": "8e01da77-ada7-4006-f9e5-17e649a37f24"
      },
      "execution_count": 4,
      "outputs": [
        {
          "output_type": "stream",
          "name": "stdout",
          "text": [
            "4\n"
          ]
        }
      ]
    },
    {
      "cell_type": "code",
      "source": [
        "def exemplo_a_potencia(x):\n",
        "  return pow(x,1)\n",
        "\n",
        "print(exemplo_a_potencia(5))"
      ],
      "metadata": {
        "colab": {
          "base_uri": "https://localhost:8080/"
        },
        "id": "oNvSSi_QljaH",
        "outputId": "478fac46-d6cc-42b5-cf2c-1df023f3bbb7"
      },
      "execution_count": 5,
      "outputs": [
        {
          "output_type": "stream",
          "name": "stdout",
          "text": [
            "5\n"
          ]
        }
      ]
    }
  ]
}