{
  "nbformat": 4,
  "nbformat_minor": 0,
  "metadata": {
    "colab": {
      "provenance": [],
      "authorship_tag": "ABX9TyPdlB4RLVBjt4PBHY/mGZZM",
      "include_colab_link": true
    },
    "kernelspec": {
      "name": "python3",
      "display_name": "Python 3"
    },
    "language_info": {
      "name": "python"
    }
  },
  "cells": [
    {
      "cell_type": "markdown",
      "metadata": {
        "id": "view-in-github",
        "colab_type": "text"
      },
      "source": [
        "<a href=\"https://colab.research.google.com/github/allycehtta2027/CursoPython/blob/main/Untitled2.ipynb\" target=\"_parent\"><img src=\"https://colab.research.google.com/assets/colab-badge.svg\" alt=\"Open In Colab\"/></a>"
      ]
    },
    {
      "cell_type": "markdown",
      "source": [
        "1. Aula API"
      ],
      "metadata": {
        "id": "SyUREJELKnyd"
      }
    },
    {
      "cell_type": "markdown",
      "source": [
        "# Definir a variavel"
      ],
      "metadata": {
        "id": "yxfHNjisMqD1"
      }
    },
    {
      "cell_type": "markdown",
      "source": [
        "url = 'https://pokeapi.com/api/v2/pokemon/1'"
      ],
      "metadata": {
        "id": "GNNVLHcyNqgt"
      }
    },
    {
      "cell_type": "markdown",
      "source": [
        "response = requests.get(url"
      ],
      "metadata": {
        "id": "IyvcRGO7LqkW"
      }
    },
    {
      "cell_type": "markdown",
      "source": [
        "- API POKEMON"
      ],
      "metadata": {
        "id": "TwOODxLoQodY"
      }
    },
    {
      "cell_type": "code",
      "source": [],
      "metadata": {
        "id": "MSFHBH56MN8O"
      },
      "execution_count": null,
      "outputs": []
    },
    {
      "cell_type": "code",
      "source": [
        "# Importando bibliotecas\n",
        "import requests\n",
        "\n",
        "# Definir a variavel URL\n",
        "url = \"https://pokeapi.co/api/v2/pokemon/pikachu\"\n",
        "\n",
        "# Realizando a requisição e guardando a resposta\n",
        "response = requests.get(url)\n",
        "\n",
        "if response.status_code == 200:\n",
        "  data = response.json()\n",
        "\n",
        "  print(f\"Nome: {data['name']}\")\n",
        "  print(f\"ID: {data['id']}\")\n",
        "  print(f\"Altura: {data['height']}\")\n",
        "  print(f\"Peso: {data['weight']}\")\n",
        "  print(\"Tipos:\")\n",
        "  for tipo in data['types']:\n",
        "    print(f\"- {tipo['type']['name']}\")"
      ],
      "metadata": {
        "colab": {
          "base_uri": "https://localhost:8080/"
        },
        "id": "7XdyV-VHM6zl",
        "outputId": "3590b436-b26b-4442-8546-d698fc15f4ca"
      },
      "execution_count": 3,
      "outputs": [
        {
          "output_type": "stream",
          "name": "stdout",
          "text": [
            "Nome: pikachu\n",
            "ID: 25\n",
            "Altura: 4\n",
            "Peso: 60\n",
            "Tipos:\n",
            "- electric\n"
          ]
        }
      ]
    },
    {
      "cell_type": "code",
      "source": [
        "# API The Dog( O cachorro)\n",
        "Chave: live_hLCEa4zITigYgj4bps2yHVuSziP48eCaSfb8r3nYKoOozEULGyWqOTJw4w1Uc5NW"
      ],
      "metadata": {
        "id": "stJ25HTCQ2UI"
      },
      "execution_count": null,
      "outputs": []
    },
    {
      "cell_type": "markdown",
      "source": [
        "# definir a chave do API\n"
      ],
      "metadata": {
        "id": "BBiXSBhZRLYy"
      }
    },
    {
      "cell_type": "code",
      "source": [
        "import requests\n",
        "\n",
        "# Definir a url\n",
        "api_key  = 'live_hLCEa4zITigYgj4bps2yHVuSziP48eCaSfb8r3nYKoOozEULGyWqOTJw4w1Uc5NW  '\n",
        "\n",
        "url = f\"https://api.thecatapi.com/v1/images/search?api_key={api_key}\"\n",
        "\n",
        "response = requests.get(url)\n",
        "\n",
        "if response.status_code == 200:\n",
        "  data = response.json()\n",
        "  print(data)"
      ],
      "metadata": {
        "colab": {
          "base_uri": "https://localhost:8080/"
        },
        "id": "aCxGbI_IRfAo",
        "outputId": "4273a900-5c9e-4adc-9d40-5211b1d22118"
      },
      "execution_count": 5,
      "outputs": [
        {
          "output_type": "stream",
          "name": "stdout",
          "text": [
            "[{'id': 'ef5', 'url': 'https://cdn2.thecatapi.com/images/ef5.jpg', 'width': 500, 'height': 281}]\n"
          ]
        }
      ]
    },
    {
      "cell_type": "markdown",
      "source": [],
      "metadata": {
        "id": "qD8JRFNYQ17J"
      }
    },
    {
      "cell_type": "code",
      "source": [
        "\n",
        "\n"
      ],
      "metadata": {
        "id": "LYX-6TBTNcMm"
      },
      "execution_count": null,
      "outputs": []
    }
  ]
}