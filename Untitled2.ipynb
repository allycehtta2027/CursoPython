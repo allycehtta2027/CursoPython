{
  "nbformat": 4,
  "nbformat_minor": 0,
  "metadata": {
    "colab": {
      "provenance": [],
      "authorship_tag": "ABX9TyNAUdDnp+8jteVNhA2YdR1m",
      "include_colab_link": true
    },
    "kernelspec": {
      "name": "python3",
      "display_name": "Python 3"
    },
    "language_info": {
      "name": "python"
    }
  },
  "cells": [
    {
      "cell_type": "markdown",
      "metadata": {
        "id": "view-in-github",
        "colab_type": "text"
      },
      "source": [
        "<a href=\"https://colab.research.google.com/github/allycehtta2027/CursoPython/blob/main/Untitled2.ipynb\" target=\"_parent\"><img src=\"https://colab.research.google.com/assets/colab-badge.svg\" alt=\"Open In Colab\"/></a>"
      ]
    },
    {
      "cell_type": "markdown",
      "source": [
        "1. Aula API"
      ],
      "metadata": {
        "id": "SyUREJELKnyd"
      }
    },
    {
      "cell_type": "markdown",
      "source": [
        "# Definir a variavel"
      ],
      "metadata": {
        "id": "yxfHNjisMqD1"
      }
    },
    {
      "cell_type": "markdown",
      "source": [
        "url = 'https://pokeapi.com/api/v2/pokemon/1'"
      ],
      "metadata": {
        "id": "GNNVLHcyNqgt"
      }
    },
    {
      "cell_type": "markdown",
      "source": [
        "response = requests.get(url"
      ],
      "metadata": {
        "id": "IyvcRGO7LqkW"
      }
    },
    {
      "cell_type": "markdown",
      "source": [
        "- API POKEMON"
      ],
      "metadata": {
        "id": "TwOODxLoQodY"
      }
    },
    {
      "cell_type": "code",
      "source": [],
      "metadata": {
        "id": "MSFHBH56MN8O"
      },
      "execution_count": null,
      "outputs": []
    },
    {
      "cell_type": "code",
      "source": [
        "# Importando bibliotecas\n",
        "import requests\n",
        "\n",
        "# Definir a variavel URL\n",
        "url = \"https://pokeapi.co/api/v2/pokemon/pikachu\"\n",
        "\n",
        "# Realizando a requisição e guardando a resposta\n",
        "response = requests.get(url)\n",
        "\n",
        "if response.status_code == 200:\n",
        "  data = response.json()\n",
        "\n",
        "  print(f\"Nome: {data['name']}\")\n",
        "  print(f\"ID: {data['id']}\")\n",
        "  print(f\"Altura: {data['height']}\")\n",
        "  print(f\"Peso: {data['weight']}\")\n",
        "  print(\"Tipos:\")\n",
        "  for tipo in data['types']:\n",
        "    print(f\"- {tipo['type']['name']}\")"
      ],
      "metadata": {
        "colab": {
          "base_uri": "https://localhost:8080/"
        },
        "id": "7XdyV-VHM6zl",
        "outputId": "3590b436-b26b-4442-8546-d698fc15f4ca"
      },
      "execution_count": 3,
      "outputs": [
        {
          "output_type": "stream",
          "name": "stdout",
          "text": [
            "Nome: pikachu\n",
            "ID: 25\n",
            "Altura: 4\n",
            "Peso: 60\n",
            "Tipos:\n",
            "- electric\n"
          ]
        }
      ]
    },
    {
      "cell_type": "code",
      "source": [
        "# API The Dog( O cachorro)\n",
        "Chave: live_hLCEa4zITigYgj4bps2yHVuSziP48eCaSfb8r3nYKoOozEULGyWqOTJw4w1Uc5NW"
      ],
      "metadata": {
        "id": "stJ25HTCQ2UI"
      },
      "execution_count": null,
      "outputs": []
    },
    {
      "cell_type": "markdown",
      "source": [
        "# definir a chave do API\n"
      ],
      "metadata": {
        "id": "BBiXSBhZRLYy"
      }
    },
    {
      "cell_type": "code",
      "source": [
        "import requests\n",
        "\n",
        "# Definir a url\n",
        "api_key  = 'live_hLCEa4zITigYgj4bps2yHVuSziP48eCaSfb8r3nYKoOozEULGyWqOTJw4w1Uc5NW  '\n",
        "\n",
        "url = f\"https://api.thedogapi.com/v1/images/search?api_key={api_key}\"\n",
        "\n",
        "response = requests.get(url)\n",
        "\n",
        "if response.status_code == 200:\n",
        "  data = response.json()\n",
        "  print(data)"
      ],
      "metadata": {
        "colab": {
          "base_uri": "https://localhost:8080/"
        },
        "id": "aCxGbI_IRfAo",
        "outputId": "d60e64a7-c951-4a8d-d0f1-23817300f0bb"
      },
      "execution_count": 9,
      "outputs": [
        {
          "output_type": "stream",
          "name": "stdout",
          "text": [
            "[{'breeds': [], 'id': 'zkmPStQcR', 'url': 'https://cdn2.thedogapi.com/images/zkmPStQcR.jpg', 'width': 1024, 'height': 768}]\n"
          ]
        }
      ]
    },
    {
      "cell_type": "markdown",
      "source": [],
      "metadata": {
        "id": "qD8JRFNYQ17J"
      }
    },
    {
      "cell_type": "markdown",
      "source": [
        "API NASA\n",
        "\n",
        "chave: 93XcsvH8dQRboSblD1V7Qcs1uuyMciUcSTVhtcM5\n",
        "  "
      ],
      "metadata": {
        "id": "OhP6VUBkVzj5"
      }
    },
    {
      "cell_type": "code",
      "source": [
        "\n",
        "import requests\n",
        "\n",
        "api_key = \"93XcsvH8dQRboSblD1V7Qcs1uuyMciUcSTVhtcM5\"\n",
        "\n",
        "endpoint = \"/planetary/apod\" # Astronomy Picture Of Day -> Fotografia astronomica do dia\n",
        "\n",
        "url = f\"https://api.nasa.gov{endpoint}?api_key={api_key}\"\n",
        "\n",
        "response = requests.get(url)\n",
        "\n",
        "if response.status_code == 200:\n",
        "  data = response.json()\n",
        "\n",
        "  print(data)\n"
      ],
      "metadata": {
        "colab": {
          "base_uri": "https://localhost:8080/"
        },
        "id": "7c533WBIWhYZ",
        "outputId": "cbbb3b40-2ee4-475e-864d-e22467610d82"
      },
      "execution_count": 12,
      "outputs": [
        {
          "output_type": "stream",
          "name": "stdout",
          "text": [
            "{'date': '2024-09-13', 'explanation': \"This snapshot from the International Space Station was taken on August 11 while orbiting about 430 kilometers above the Indian Ocean, Southern Hemisphere, planet Earth. The spectacular view looks south and east, down toward the planet's horizon and through red and green curtains of aurora australis. The auroral glow is caused by emission from excited oxygen atoms in the extremely rarefied upper atmosphere still present at the level of the orbiting outpost. Green emission from atomic oxygen dominates this scene at altitudes of 100 to 250 kilometers, while red emission from atomic oxygen can extend as high as 500 kilometers altitude. Beyond the glow of these southern lights, this view from low Earth orbit reveals the starry sky from a southern hemisphere perspective. Stars in Orion's belt and the Orion Nebula are near the Earth's limb just left of center. Sirius, alpha star of Canis Major and brightest star in planet Earth's night is above center along the right edge of the southern orbital skyscape.  Looking Up: International Observe the Moon Night\", 'hdurl': 'https://apod.nasa.gov/apod/image/2409/iss071e564695_4096.jpg', 'media_type': 'image', 'service_version': 'v1', 'title': 'Aurora Australis and the International Space Station', 'url': 'https://apod.nasa.gov/apod/image/2409/iss071e564695_1024.jpg'}\n"
          ]
        }
      ]
    },
    {
      "cell_type": "markdown",
      "source": [
        "# API STAR WARS"
      ],
      "metadata": {
        "id": "gSEvjEUJaraE"
      }
    },
    {
      "cell_type": "code",
      "source": [
        "import requests\n",
        "\n",
        "endpoint = \"/people\"\n",
        "\n",
        "url = f\"https://swapi.dev/api{endpoint}\"\n",
        "\n",
        "response = requests.get(url)\n",
        "\n",
        "if response.status_code == 200:\n",
        "  data = response.json()\n",
        "\n",
        "for pessoa in data['results']:\n",
        "  print(f\"\\nNome: {pessoa['name']}\")\n",
        "  print(f'Altura: {pessoa[\"height\"]}')\n",
        "  print(f'Peso: {pessoa[\"mass\"]}')"
      ],
      "metadata": {
        "colab": {
          "base_uri": "https://localhost:8080/"
        },
        "id": "LSVn3JWmay35",
        "outputId": "da95128c-546c-41bd-fd56-99cd2c88e8aa"
      },
      "execution_count": 17,
      "outputs": [
        {
          "output_type": "stream",
          "name": "stdout",
          "text": [
            "\n",
            "Nome: Luke Skywalker\n",
            "Altura: 172\n",
            "Peso: 77\n",
            "\n",
            "Nome: C-3PO\n",
            "Altura: 167\n",
            "Peso: 75\n",
            "\n",
            "Nome: R2-D2\n",
            "Altura: 96\n",
            "Peso: 32\n",
            "\n",
            "Nome: Darth Vader\n",
            "Altura: 202\n",
            "Peso: 136\n",
            "\n",
            "Nome: Leia Organa\n",
            "Altura: 150\n",
            "Peso: 49\n",
            "\n",
            "Nome: Owen Lars\n",
            "Altura: 178\n",
            "Peso: 120\n",
            "\n",
            "Nome: Beru Whitesun lars\n",
            "Altura: 165\n",
            "Peso: 75\n",
            "\n",
            "Nome: R5-D4\n",
            "Altura: 97\n",
            "Peso: 32\n",
            "\n",
            "Nome: Biggs Darklighter\n",
            "Altura: 183\n",
            "Peso: 84\n",
            "\n",
            "Nome: Obi-Wan Kenobi\n",
            "Altura: 182\n",
            "Peso: 77\n"
          ]
        }
      ]
    },
    {
      "cell_type": "code",
      "source": [
        "\n",
        "\n"
      ],
      "metadata": {
        "id": "LYX-6TBTNcMm"
      },
      "execution_count": null,
      "outputs": []
    }
  ]
}