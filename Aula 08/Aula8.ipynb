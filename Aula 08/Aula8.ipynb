{
 "cells": [
  {
   "cell_type": "code",
   "execution_count": null,
   "metadata": {},
   "outputs": [],
   "source": []
  },
  {
   "cell_type": "code",
   "execution_count": 1,
   "metadata": {},
   "outputs": [
    {
     "name": "stdout",
     "output_type": "stream",
     "text": [
      "                   *\n",
      "                  ***\n",
      "                 *****\n",
      "                *******\n",
      "               *********\n",
      "              ***********\n",
      "             *************\n",
      "            ***************\n",
      "           *****************\n",
      "          *******************\n",
      "         *********************\n",
      "        ***********************\n",
      "       *************************\n",
      "      ***************************\n",
      "     *****************************\n",
      "    *******************************\n",
      "   *********************************\n",
      "  ***********************************\n",
      " *************************************\n",
      "***************************************\n"
     ]
    }
   ],
   "source": [
    "# Árvore de asteriscos (*)\n",
    "\n",
    "altura=20\n",
    "escapamento=0\n",
    "asterisco =1\n",
    "simbolo= '*'\n",
    "\n",
    "for i in range(altura):\n",
    "    escapamento = altura -i -1\n",
    "\n",
    "    for j in range(escapamento):\n",
    "        print(' ', end='')\n",
    "    for k in range(asterisco):\n",
    "        print(simbolo, end='')\n",
    "    print()\n",
    "    asterisco += 2 "
   ]
  },
  {
   "cell_type": "code",
   "execution_count": null,
   "metadata": {},
   "outputs": [],
   "source": [
    "nome = input(' Digite um nome: ')\n",
    "nome1 = input('Digite um nome: ')\n",
    "nome2 = input('Digite um nome; ')\n",
    "nome3 = input('Digite um nome: ')\n",
    "nome4 = input('Digite um nome: ')\n",
    "nome5 = input('Digite um nome):')"
   ]
  },
  {
   "cell_type": "markdown",
   "metadata": {},
   "source": [
    "Laço FOR\n"
   ]
  },
  {
   "cell_type": "code",
   "execution_count": 7,
   "metadata": {},
   "outputs": [
    {
     "name": "stdout",
     "output_type": "stream",
     "text": [
      "felipe\n",
      "lucas\n",
      "pedro\n",
      "jose\n"
     ]
    }
   ],
   "source": [
    "nome = ['felipe', 'lucas', 'pedro','jose']\n",
    "for n in nome:\n",
    "    print(n)"
   ]
  },
  {
   "cell_type": "markdown",
   "metadata": {},
   "source": [
    "for i in range(0,21):\n",
    "    if i % 2 == 0:\n",
    "        print(i)"
   ]
  },
  {
   "cell_type": "markdown",
   "metadata": {},
   "source": [
    "0\n",
    "2\n",
    "4\n",
    "6\n",
    "8\n",
    "10\n",
    "12\n",
    "14\n",
    "16\n",
    "18\n",
    "20\n"
   ]
  },
  {
   "cell_type": "markdown",
   "metadata": {},
   "source": [
    "altura = 20\n",
    "espacamento = 0\n",
    "asterisco = 1\n",
    "simbolo = '*'\n",
    "\n",
    "for i in range(altura):\n",
    "    espacamento = altura - i - 1\n",
    "      \n",
    "    for j in range(espacamento):\n",
    "        print(' ', end='')\n",
    "\n",
    "    for k in range(asterisco):\n",
    "        print(símbolo, end='')\n",
    "\n",
    "    print()\n",
    "    asterisco +=2   "
   ]
  },
  {
   "cell_type": "code",
   "execution_count": null,
   "metadata": {},
   "outputs": [],
   "source": [
    "{\n",
    "\t\"name\": \"NameError\",\n",
    "\t\"message\": \"name 'símbolo' is not defined\",\n",
    "\t\"stack\": \"---------------------------------------------------------------------------\n",
    "NameError                                 Traceback (most recent call last)\n",
    "Cell In[17], line 13\n",
    "     10     print(' ', end='')\n",
    "     12 for k in range(asterisco):\n",
    "---> 13     print(símbolo, end='')\n",
    "     15 print()\n",
    "     16 asterisco +=2    \n",
    "\n",
    "NameError: name 'símbolo' is not defined\"\n",
    "}"
   ]
  },
  {
   "cell_type": "code",
   "execution_count": null,
   "metadata": {},
   "outputs": [],
   "source": [
    "lista = ['gomes', 'pedro', 'paulo', 'jose', 'beltrano']\n",
    "\n",
    "print(f'O primeiro nome da lista é {lista{0}}')\n",
    "print(f'O segundo nome da lista é {lista{1}}')\n",
    "print(f'O terceiro nome da lista é {lista{2}}')\n",
    "\n",
    "for i in range(len(lista)):\n",
    "    print(f'{i + 1} colocado: {lista{i}}')"
   ]
  },
  {
   "cell_type": "code",
   "execution_count": null,
   "metadata": {},
   "outputs": [],
   "source": [
    "{\n",
    "\t\"name\": \"SyntaxError\",\n",
    "\t\"message\": \"invalid syntax. Perhaps you forgot a comma? (91413553.py, line 3)\",\n",
    "\t\"stack\": \"  Cell In[20], line 3\n",
    "    print(f'O primeiro nome da lista é {lista{0}}')\n",
    "                                        ^\n",
    "SyntaxError: invalid syntax. Perhaps you forgot a comma?\n",
    "\"\n",
    "}"
   ]
  },
  {
   "cell_type": "markdown",
   "metadata": {},
   "source": [
    "x = int(input('Digite um número inteiro: '))\n",
    "\n",
    "for num in range(1, 11):\n",
    "    print(f'(x) x (num) = (x * num)')"
   ]
  },
  {
   "cell_type": "markdown",
   "metadata": {},
   "source": [
    "(x) x (num) = (x * num)\n",
    "(x) x (num) = (x * num)\n",
    "(x) x (num) = (x * num)\n",
    "(x) x (num) = (x * num)\n",
    "(x) x (num) = (x * num)\n",
    "(x) x (num) = (x * num)\n",
    "(x) x (num) = (x * num)\n",
    "(x) x (num) = (x * num)\n",
    "(x) x (num) = (x * num)\n",
    "(x) x (num) = (x * num)\n"
   ]
  }
 ],
 "metadata": {
  "kernelspec": {
   "display_name": "Python 3",
   "language": "python",
   "name": "python3"
  },
  "language_info": {
   "codemirror_mode": {
    "name": "ipython",
    "version": 3
   },
   "file_extension": ".py",
   "mimetype": "text/x-python",
   "name": "python",
   "nbconvert_exporter": "python",
   "pygments_lexer": "ipython3",
   "version": "3.12.4"
  }
 },
 "nbformat": 4,
 "nbformat_minor": 2
}
