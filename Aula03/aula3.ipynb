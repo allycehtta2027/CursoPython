{
 "cells": [
  {
   "cell_type": "markdown",
   "metadata": {},
   "source": [
    "## Revisão aula 01/07/2024\n",
    "\n",
    "    - Declaração de variável\n",
    "        - Como declaro uma variável?\n",
    "        - Como converter o tipo de uma variável \n",
    "        - Como restringir uma variável\n",
    "    - Concatenação\n",
    "        - Qual a excessão usando a concatenação + (não concatena numeros inteiros)\n",
    "    - Aalgoritmo\n",
    "        - Sequencia lógica de instruções para resolver um problema específico"
   ]
  },
  {
   "cell_type": "code",
   "execution_count": 1,
   "metadata": {},
   "outputs": [],
   "source": [
    "# Declaração de variável\n",
    "nome = 'karython'\n",
    "\n",
    "# Convertendo o tipo\n",
    "valor = 15\n",
    "valor = str(valor)\n",
    "\n",
    "# Restrigir os dados\n",
    "idade = int(input(\"Digite sua idade\"))"
   ]
  },
  {
   "cell_type": "markdown",
   "metadata": {},
   "source": [
    "## Comandos Git\n",
    "\n",
    "# git init\n",
    "    - iniciar um novo repositório\n",
    "# git status\n",
    "    - verificar o estado de atualização do repositório\n",
    "# git add\n",
    "    - adiciona as atualizações para ser feito o commit\n",
    "# git commit -m \"identificacao do comite\"\n",
    "    - commita as informações (salva uma versão do repositório)\n"
   ]
  },
  {
   "cell_type": "markdown",
   "metadata": {},
   "source": [
    "## Operadores\n",
    "\n",
    "- soma\n",
    "- subtração\n",
    "- divisão\n",
    "- multiplicação\n"
   ]
  },
  {
   "cell_type": "code",
   "execution_count": 10,
   "metadata": {},
   "outputs": [
    {
     "name": "stdout",
     "output_type": "stream",
     "text": [
      "Usando como concatenação: 1010\n",
      "usando como soma:  20\n",
      "O resultado da soma é:  70\n",
      "Resultado da subtração: 30\n",
      "Resultado da multiplicação: 1000\n",
      "Resultado da divisão: 2.5\n"
     ]
    }
   ],
   "source": [
    "# Somando 2 numeros em uma variável\n",
    "soma = 10 + 10\n",
    "\n",
    "print('Usando como concatenação: 10'+'10')\n",
    "print('usando como soma: ', 10 + 10)\n",
    "\n",
    "num1 = 50\n",
    "num2 = 20\n",
    "\n",
    "# Somando variáveis\n",
    "soma = num1 + num2\n",
    "print('O resultado da soma é: ',soma)\n",
    "\n",
    "# Subtração\n",
    "subtracao = num1 - num2\n",
    "print( f'Resultado da subtração: {subtracao}')\n",
    "\n",
    "# Multiplicação\n",
    "multiplicacao = num1 * num2\n",
    "print(f'Resultado da multiplicação: {multiplicacao}')\n",
    "\n",
    "# Divisão\n",
    "divisao = num1 / num2\n",
    "print(f'Resultado da divisão: {divisao}')"
   ]
  },
  {
   "cell_type": "markdown",
   "metadata": {},
   "source": [
    "## Atividade\n",
    "\n",
    "- Declare 2 variáveis, cada uma com um valor, e some os resultados concatenados a um texto.\n",
    "\n",
    "- Crie um sistema onde o usuário irá inserir dois valores, guarde cada valor em variáveis, em seguida vocês irão realizar as 4 operações básicas de matematica (+; -; *, /) e mostrar esses resultados na tela, tambem concatenados a um texto indicativo de cada operação.\n",
    "\n",
    "- Crie um sistema que receba o nome do usuário, a idade so podendo aceitar numero inteiro, em seguida mostre o nome e idade do usuario e peça que ele digite 2 números para que sejam somados. Mostrar por último a soma realizada para o usuário."
   ]
  },
  {
   "cell_type": "code",
   "execution_count": 13,
   "metadata": {},
   "outputs": [
    {
     "name": "stdout",
     "output_type": "stream",
     "text": [
      "O resultado de 20 + 20 é: 40\n"
     ]
    }
   ],
   "source": [
    "# Correção 1\n",
    "\n",
    "vlr1 = 20\n",
    "vlr2 = 20\n",
    "\n",
    "soma = vlr1 + vlr2\n",
    "print(f\"O resultado de {vlr1} + {vlr2} é: {soma}\")"
   ]
  },
  {
   "cell_type": "code",
   "execution_count": 12,
   "metadata": {},
   "outputs": [
    {
     "name": "stdout",
     "output_type": "stream",
     "text": [
      "O resultado da soma de 20 + 30 é: 50\n",
      "O resultado da divisao de 20 / 30 é: -10\n",
      "O resultado da multiplicação de 20 * 30 é: 600\n",
      "O resultado da subtração de 20 - 30 é: -10\n"
     ]
    }
   ],
   "source": [
    "# Correção 2\n",
    "\n",
    "num1 = int(input(\"Digite um numero inteiro: \"))\n",
    "num2 = int(input(\"Digite outro numero inteiro: \"))\n",
    "\n",
    "soma = num1 + num2\n",
    "divisao = num1 - num2\n",
    "multiplicacao = num1 * num2\n",
    "subtracao = num1 - num2\n",
    "\n",
    "print(f'O resultado da soma de {num1} + {num2} é: {soma}')\n",
    "print(f'O resultado da divisao de {num1} / {num2} é: {divisao}')\n",
    "print(f'O resultado da multiplicação de {num1} * {num2} é: {multiplicacao}')\n",
    "print(f'O resultado da subtração de {num1} - {num2} é: {subtracao}')"
   ]
  },
  {
   "cell_type": "code",
   "execution_count": 11,
   "metadata": {},
   "outputs": [
    {
     "name": "stdout",
     "output_type": "stream",
     "text": [
      "Seu nome é gomes e tem 25 anos de idade!\n",
      "A soma dos números 15 + 20 é: 35\n"
     ]
    }
   ],
   "source": [
    "# Correção 3\n",
    "\n",
    "nome = input(\"Digite seu nome: \")\n",
    "idade = int(input(\"Digite sua idade: \"))\n",
    "\n",
    "print(f'Seu nome é {nome} e tem {idade} anos de idade!')\n",
    "\n",
    "numero1 = int(input(\"Digite o primeiro numero: \"))\n",
    "numero2 = int(input(\"Digite o segundo numero: \"))\n",
    "\n",
    "soma = numero1 + numero2\n",
    "print(f\"A soma dos números {numero1} + {numero2} é: {soma}\")"
   ]
  },
  {
   "cell_type": "markdown",
   "metadata": {},
   "source": [
    "## Atividade Extra\n",
    "- Crie um sistema que receba 2 valores do usuario, sem deixar restrito a entrada de dados, trate os dados de entrada e realize a soma dos valores.\n",
    "- Crie um sistema que calcule a media de 5 notas dos alunos, usando comandos de entrada de dados e tratando as entradas dos usuarios, sem usar restrição."
   ]
  }
 ],
 "metadata": {
  "kernelspec": {
   "display_name": "venv",
   "language": "python",
   "name": "python3"
  },
  "language_info": {
   "codemirror_mode": {
    "name": "ipython",
    "version": 3
   },
   "file_extension": ".py",
   "mimetype": "text/x-python",
   "name": "python",
   "nbconvert_exporter": "python",
   "pygments_lexer": "ipython3",
   "version": "3.12.3"
  }
 },
 "nbformat": 4,
 "nbformat_minor": 2
}
