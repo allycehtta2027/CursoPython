{
 "cells": [
  {
   "cell_type": "markdown",
   "metadata": {},
   "source": [
    "## Declarando variáveis"
   ]
  },
  {
   "cell_type": "code",
   "execution_count": null,
   "metadata": {},
   "outputs": [],
   "source": [
    "nome = 'gomes'\n",
    "print(nome)\n",
    "peso = 80.5\n",
    "altura = 1.75\n",
    "instrutor = True\n",
    "print(peso)\n",
    "print(altura)\n",
    "print(instrutor)\n",
    "print(peso, type(peso))\n",
    "print(instrutor, type(instrutor))"
   ]
  },
  {
   "cell_type": "markdown",
   "metadata": {},
   "source": [
    "## Convertendo Tipos de Dados"
   ]
  },
  {
   "cell_type": "code",
   "execution_count": null,
   "metadata": {},
   "outputs": [],
   "source": [
    "valor = 15\n",
    "print(valor, type(valor))\n",
    "valor = str(valor)\n",
    "print(type( valor))"
   ]
  },
  {
   "cell_type": "markdown",
   "metadata": {},
   "source": [
    "## Concatenação"
   ]
  },
  {
   "cell_type": "code",
   "execution_count": null,
   "metadata": {},
   "outputs": [],
   "source": [
    "nome = input(\"Digite seu nome: \")\n",
    "idade = int(input(\"Digite a sua idade: \"))\n",
    "\n",
    "print('ola, meu nome é '+ nome + '! Tenho ' + str(idade) + ' de idade')\n",
    "\n",
    "print('ola, meu nome é ', nome, 'Tenho ', idade, 'ano de idade!')\n",
    "\n",
    "print(f'Ola, meu nome é {nome}, tenho {idade} de idade')"
   ]
  },
  {
   "cell_type": "markdown",
   "metadata": {},
   "source": [
    "## Atividade\n",
    "    Criar um sistema para receber o nome, idade, peso, altura\n",
    "    Converter a idade para receber somente numeros inteiros\n",
    "    Imprimir os tipos de dados\n",
    "    Imprimir todas as informações concatenadas usando f string"
   ]
  },
  {
   "cell_type": "markdown",
   "metadata": {},
   "source": [
    "## Correção"
   ]
  },
  {
   "cell_type": "code",
   "execution_count": null,
   "metadata": {},
   "outputs": [],
   "source": [
    "nome = input(\"Digite seu nome: \")\n",
    "idade = int(input(\"Digite sua idade: \"))\n",
    "peso = float(input(\"Digite o seu peso: \"))\n",
    "altura = float(input(\"Difite sua altura: \"))\n",
    "\n",
    "print(f'Meu nome é {nome}, \\ntenho {idade} de idade, \\nmeu peso é {peso}, tenho {altura} de altura')\n",
    "print(type(idade))"
   ]
  }
 ],
 "metadata": {
  "language_info": {
   "name": "python"
  }
 },
 "nbformat": 4,
 "nbformat_minor": 2
}
