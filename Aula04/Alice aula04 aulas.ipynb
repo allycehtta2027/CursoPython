{
 "cells": [
  {
   "cell_type": "markdown",
   "metadata": {},
   "source": [
    "Aula 04"
   ]
  },
  {
   "cell_type": "code",
   "execution_count": 1,
   "metadata": {},
   "outputs": [
    {
     "name": "stdout",
     "output_type": "stream",
     "text": [
      "Divisão inteira: 5\n",
      "Divisão normal: 5.0\n",
      "resto: 0\n",
      "exponenciação: 100\n"
     ]
    }
   ],
   "source": [
    "n1 = input(\"Digite o primeiro numero:\")\n",
    "n2 = input(\"Digite o segundo numero: \")\n",
    "\n",
    "# Convetendo as entradas em inteiro \n",
    "n1 = int(n1)\n",
    "n2 = int(n2)\n",
    "\n",
    "divisao_inteira = n1 // n2\n",
    "divisao = n1 /n2 \n",
    "resto = n1 % n2 \n",
    "expo = n1 ** n2 \n",
    "\n",
    "print(f'Divisão inteira: {divisao_inteira}' )\n",
    "print(f'Divisão normal: {divisao}')\n",
    "print(f'resto: {resto}')\n",
    "print(f'exponenciação: {expo}')\n",
    "\n"
   ]
  },
  {
   "cell_type": "code",
   "execution_count": 8,
   "metadata": {},
   "outputs": [
    {
     "name": "stdout",
     "output_type": "stream",
     "text": [
      "Resultado de atribuição de subtração : 5\n",
      "Resultado de atribuição de soma : 40\n",
      "Resultado de atribuição de multiplicação valor: 400\n",
      "Resultado de atribuição de divisão: 2.5\n",
      "Resultado de atribuição de divisão inteira: 1 \n",
      "Resultado da atribuição de modulo: 5\n"
     ]
    }
   ],
   "source": [
    "# atribuição subtração \n",
    "valor = 15 \n",
    "valor -= 10\n",
    "print(f'Resultado de atribuição de subtração : {valor}')\n",
    "\n",
    "# Atribuição Soma\n",
    "valor = 30\n",
    "valor += 10\n",
    "print (f'Resultado de atribuição de soma : {valor}')\n",
    "\n",
    "# Atribuição multiplicação\n",
    "valor = 40\n",
    "valor *= 10 \n",
    "print( f'Resultado de atribuição de multiplicação valor: {valor}')\n",
    "\n",
    "# Atribuição Divisão \n",
    "valor = 25\n",
    "valor /= 10\n",
    "print(f'Resultado de atribuição de divisão: {valor}')\n",
    "\n",
    "#  Atribuição Divisão Inteira\n",
    "valor = 15\n",
    "valor //= 10\n",
    "print(f'Resultado de atribuição de divisão inteira: {valor} ')\n",
    "\n",
    "# atribuição de modulo\n",
    "valor = 25\n",
    "valor %= 10\n",
    "valor = print(f'Resultado da atribuição de modulo: {valor}')\n",
    "\n",
    "\n"
   ]
  },
  {
   "cell_type": "markdown",
   "metadata": {},
   "source": [
    "## Atividade\n",
    "- Crie um programa para o Boletim de notas do aluno. Guarde o nome do aluno, as notas e caulcule a media final do aluno.\n",
    "- Disciplinas:\n",
    "    - Matemática\n",
    "    - Português\n",
    "    - Geografia\n",
    "    - Historia\n",
    "    - Física\n",
    "\n",
    "- Ao obter as notas e a media das notas, imprima o boletim do aluno informando as notas das materias e com quanto ele ficou de madia"
   ]
  },
  {
   "cell_type": "code",
   "execution_count": 9,
   "metadata": {},
   "outputs": [
    {
     "name": "stdout",
     "output_type": "stream",
     "text": [
      "------------------------------ BOLETIM ESCOLAR ------------------------------\n",
      "Nome do Aluno: ana\n",
      "Matemática: 9.0\n",
      "Português: 10.0\n",
      "Geografia: 9.0\n",
      "História: 8.0\n",
      "Física: 9.0\n",
      "A média geral do aluno foi: 9.00\n",
      "------------------------------------------------------------\n"
     ]
    }
   ],
   "source": [
    "# Resolução do Desafio\n",
    "\n",
    "print(30*\"-\", \"BOLETIM ESCOLAR\", 30*\"-\")\n",
    "nome = input(\"Digite o nome do aluno: \")\n",
    "\n",
    "not1 = input('Digite a nota de Matemática: ')\n",
    "not2 = input('Digite a nota de Português: ')\n",
    "not3 = input('Digite a nota de Geografia: ')\n",
    "not4 = input('Digite a nota de História: ')\n",
    "not5 = input('Digite a nota de Física: ')\n",
    "\n",
    "not1 = float(not1)\n",
    "not2 = float(not2)\n",
    "not3 = float(not3)\n",
    "not4 = float(not4)\n",
    "not5 = float(not5)\n",
    "\n",
    "media = (not1 + not2 + not3 + not4 + not5)/5\n",
    "\n",
    "print(f'Nome do Aluno: {nome}')\n",
    "print(f'Matemática: {not1}')\n",
    "print(f'Português: {not2}')\n",
    "print(f'Geografia: {not3}')\n",
    "print(f'História: {not4}')\n",
    "print(f'Física: {not5}')\n",
    "print(f'A média geral do aluno foi: {media:.2f}')\n",
    "print(60*\"-\")"
   ]
  }
 ],
 "metadata": {
  "kernelspec": {
   "display_name": "Python 3",
   "language": "python",
   "name": "python3"
  },
  "language_info": {
   "codemirror_mode": {
    "name": "ipython",
    "version": 3
   },
   "file_extension": ".py",
   "mimetype": "text/x-python",
   "name": "python",
   "nbconvert_exporter": "python",
   "pygments_lexer": "ipython3",
   "version": "3.12.4"
  }
 },
 "nbformat": 4,
 "nbformat_minor": 2
}
