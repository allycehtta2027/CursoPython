{
 "cells": [
  {
   "cell_type": "markdown",
   "metadata": {},
   "source": [
    "Aula 04"
   ]
  },
  {
   "cell_type": "code",
   "execution_count": 9,
   "metadata": {},
   "outputs": [
    {
     "name": "stdout",
     "output_type": "stream",
     "text": [
      "Divisão inteira: 5\n",
      "Divisão normal: 5.0\n",
      "resto: 0\n",
      "exponenciação: 100\n"
     ]
    }
   ],
   "source": [
    "n1 = input(\"Digite o primeiro numero:\")\n",
    "n2 = input(\"Digite o segundo numero: \")\n",
    "\n",
    "# Convetendo as entradas em inteiro \n",
    "n1 = int(n1)\n",
    "n2 = int(n2)\n",
    "\n",
    "divisao_inteira = n1 // n2\n",
    "divisao = n1 /n2 \n",
    "resto = n1 % n2 \n",
    "expo = n1 ** n2 \n",
    "\n",
    "print(f'Divisão inteira: {divisao_inteira}' )\n",
    "print(f'Divisão normal: {divisao}')\n",
    "print(f'resto: {resto}')\n",
    "print(f'exponenciação: {expo}')\n",
    "\n"
   ]
  },
  {
   "cell_type": "code",
   "execution_count": null,
   "metadata": {},
   "outputs": [],
   "source": [
    "# atribuição subtração \n",
    "valor = 10 \n",
    "valor -= 10\n",
    "print(f'Resultado de atribuição de subtração : {valor}')\n",
    "\n",
    "# Atribuição Soma\n",
    "valor = 10\n",
    "valor += 10\n",
    "print (f'Resultado de atribuição de soma : {valor}')\n",
    "\n",
    "# Atribuição multiplicação\n",
    "valor = 10\n",
    "valor * = 10 \n",
    "print( f'Resultado de atribuição de multiplicação valor :{valor}')\n",
    "\n",
    "# Atribuição Divisão \n",
    "valor = 10\n",
    "valor /= 10\n",
    "print('Resultado de atribuição de divisão {valor}:')\n",
    "\n",
    "#  Atribuição Divisão Inteira\n",
    "valor = 10\n",
    "valor //= 10\n",
    "print(f'Resultado de atribuição de divisão inteira :{valor} ')\n",
    "\n",
    "# atribuição de modulo\n",
    "valor = 10\n",
    "valor \n",
    "\n",
    "\n"
   ]
  }
 ],
 "metadata": {
  "kernelspec": {
   "display_name": "Python 3",
   "language": "python",
   "name": "python3"
  },
  "language_info": {
   "codemirror_mode": {
    "name": "ipython",
    "version": 3
   },
   "file_extension": ".py",
   "mimetype": "text/x-python",
   "name": "python",
   "nbconvert_exporter": "python",
   "pygments_lexer": "ipython3",
   "version": "3.12.4"
  }
 },
 "nbformat": 4,
 "nbformat_minor": 2
}
