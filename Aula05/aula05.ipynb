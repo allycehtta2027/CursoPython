{
 "cells": [
  {
   "cell_type": "markdown",
   "metadata": {},
   "source": [
    "# Aula05"
   ]
  },
  {
   "cell_type": "code",
   "execution_count": null,
   "metadata": {},
   "outputs": [],
   "source": [
    "programador = True\n",
    "if programador:\n",
    "    print('If é verdadeiro')\n",
    "    print('verdadeiro')\n",
    "\n",
    "else:\n",
    "     print('If falso')\n",
    "     print('falso')\n",
    "\n",
    "print('Finalizou o código')"
   ]
  },
  {
   "cell_type": "code",
   "execution_count": null,
   "metadata": {},
   "outputs": [],
   "source": [
    "Idade = 35\n",
    "Altura = 1.75\n",
    "\n",
    "if idade >= 18 and altura >=1.60:\n",
    "    print('pode brincar na montanha russa ')\n",
    "else: \n",
    "    print('não pode brincar na montanha russa')"
   ]
  },
  {
   "cell_type": "markdown",
   "metadata": {},
   "source": [
    "Desafio: Receber um número verificar se é par ou impar \n"
   ]
  },
  {
   "cell_type": "code",
   "execution_count": 5,
   "metadata": {},
   "outputs": [
    {
     "name": "stdout",
     "output_type": "stream",
     "text": [
      "numero: 7 é impar\n"
     ]
    }
   ],
   "source": [
    "numero = input (' Digite um numero')\n",
    "numero = int(numero) \n",
    "if numero % 2 == 0:\n",
    "    print(f'numero: {numero} é par')\n",
    "else :\n",
    "    print(f'numero: {numero} é impar') \n"
   ]
  },
  {
   "cell_type": "markdown",
   "metadata": {},
   "source": [
    "## Desafio 2 \n",
    "- um elevador de carga pessoal possui a capacidade de 200k.\n",
    "- crie crie um programa que receba do usuario o peso de carga, verificar se a carga esta autorizada a usar o elevador ou não."
   ]
  },
  {
   "cell_type": "code",
   "execution_count": 2,
   "metadata": {},
   "outputs": [
    {
     "name": "stdout",
     "output_type": "stream",
     "text": [
      "carga não autorizada, elevador excedeu o peso máximo de 200 kilos!/inpeso atual: 250.0 Peso Total: 250.0\n",
      "Beltrano, voce esta de aorovado. nota: 9\n"
     ]
    }
   ],
   "source": [
    "carga = input( 'Digite o peso da carga: ')\n",
    "carga = float(carga )\n",
    "\n",
    "\n",
    "usuario = input('Digite o peso do usuario: ')\n",
    "usuario  = float(usuario)\n",
    "\n",
    "peso = carga + usuario \n",
    "\n",
    "if peso <= 200:\n",
    " print (f'carga autorizada. Peso Total: {peso}') \n",
    "else:\n",
    " print (f'carga não autorizada, elevador excedeu o peso máximo de 200 kilos!/inpeso atual: {peso} Peso Total: {peso}')\n",
    "\n",
    "\n",
    " # Elif\n",
    " nome ='Beltrano'\n",
    " nota = 9\n",
    "\n",
    "if nota >= 7:\n",
    "    print(f'{nome}, voce esta de aorovado. nota: {nota}')\n",
    "elif nota >= 5:\n",
    "     print (f'{nome}, voce esta de recuperação. nota: {nota}')\n",
    "else: \n",
    "     print(f'{nome},voce está reprovado. nota: {nota}')\n",
    "\n",
    " \n",
    "\n",
    "\n",
    "\n",
    "\n",
    "\n",
    "\n",
    "\n",
    " \n",
    "\n",
    "\n",
    "\n"
   ]
  },
  {
   "cell_type": "markdown",
   "metadata": {},
   "source": [
    "Desafio 3\n"
   ]
  },
  {
   "cell_type": "markdown",
   "metadata": {},
   "source": [
    "- Crie um sistema para coletar os dados do aluno, (nome, idade, cpf), em seguida\n",
    "solicite as notas do 4 bimestres da diciplida de python que o aluno teve para verificar a MEDIA.\n",
    "° Media para aprovação >= 7\n",
    "° Media para recuperação > =5 \n",
    "° Media para reprovação = <5\n",
    "\n"
   ]
  },
  {
   "cell_type": "markdown",
   "metadata": {},
   "source": [
    "- Para retirar o boletim de notas, o aluno precisa ser maior de idade (18)e caso não seja, somente os pais podem retirar o boletim.\n",
    "° Imprimir as informações do aluno\n",
    "° Imprima as notas do aluno em cada bimestre \n",
    "° Imprima a situação do aluno ( aprovado, reprovado, recuperação)\n",
    "° Imprima se o boletim sera retirado pelos pais ou pelo proprio aluno\n"
   ]
  },
  {
   "cell_type": "code",
   "execution_count": 3,
   "metadata": {},
   "outputs": [
    {
     "name": "stdout",
     "output_type": "stream",
     "text": [
      "------------------------------ Boletim escolar! ------------------------------\n",
      "Aluno: ALICE\n",
      "Nota 1 : 10.0\n",
      "Nota 2 : 9.0\n",
      "Nota 3 : 8.0\n",
      "Nota 4 : 10.0\n",
      "Media das notas : 9.25\n",
      "Parabéns, você está aprovado!\n"
     ]
    }
   ],
   "source": [
    "# primeiro criar os passos para pedir os dados do aluno \n",
    "\n",
    "# Correção\n",
    "\n",
    "nome = input(\"Digite o nome do aluno: \").upper()\n",
    "idade = input(\"Digite a idade do aluno: \")\n",
    "idade = int(idade)\n",
    "\n",
    "nota1 = input(\"Digite a nota do 1° Bimestre: \")\n",
    "nota2 = input(\"Digite a nota do 2° Bimestre: \")\n",
    "nota3 = input(\"Digite a nota do 3° Bimestre: \")\n",
    "nota4 = input(\"Digite a nota do 4° Bimestre: \")\n",
    "\n",
    "nota1 = float(nota1)\n",
    "nota2 = float(nota2)\n",
    "nota3 = float(nota3)\n",
    "nota4 = float(nota4)\n",
    "\n",
    "media = (nota1 + nota2 + nota3 + nota4)/4\n",
    "\n",
    "if idade >= 18:\n",
    "    print(30*\"-\",\"Boletim escolar!\",30*\"-\")\n",
    "    print(f\"Aluno: {nome}\")\n",
    "    print(f\"Nota 1 : {nota1}\")\n",
    "    print(f\"Nota 2 : {nota2}\")\n",
    "    print(f\"Nota 3 : {nota3}\")\n",
    "    print(f\"Nota 4 : {nota4}\")\n",
    "    print(f\"Media das notas : {media}\")\n",
    "    if media >= 7:\n",
    "        print(\"Parabéns, você está aprovado!\")\n",
    "    elif media >= 5:\n",
    "        print(\"Eita, você está de recuperação! :( \")\n",
    "    else:\n",
    "        print(\"Que pena! Você foi reprovado!\")\n",
    "else:\n",
    "    print(\"As notas so serão entregues a um responsável!\")"
   ]
  }
 ],
 "metadata": {
  "kernelspec": {
   "display_name": "Python 3",
   "language": "python",
   "name": "python3"
  },
  "language_info": {
   "codemirror_mode": {
    "name": "ipython",
    "version": 3
   },
   "file_extension": ".py",
   "mimetype": "text/x-python",
   "name": "python",
   "nbconvert_exporter": "python",
   "pygments_lexer": "ipython3",
   "version": "3.12.4"
  }
 },
 "nbformat": 4,
 "nbformat_minor": 2
}
