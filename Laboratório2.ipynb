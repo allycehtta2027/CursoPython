{
  "nbformat": 4,
  "nbformat_minor": 0,
  "metadata": {
    "colab": {
      "provenance": [],
      "authorship_tag": "ABX9TyOT1KiaWdAepZm5HDKhkVMn",
      "include_colab_link": true
    },
    "kernelspec": {
      "name": "python3",
      "display_name": "Python 3"
    },
    "language_info": {
      "name": "python"
    }
  },
  "cells": [
    {
      "cell_type": "markdown",
      "metadata": {
        "id": "view-in-github",
        "colab_type": "text"
      },
      "source": [
        "<a href=\"https://colab.research.google.com/github/allycehtta2027/CursoPython/blob/main/Laborat%C3%B3rio2.ipynb\" target=\"_parent\"><img src=\"https://colab.research.google.com/assets/colab-badge.svg\" alt=\"Open In Colab\"/></a>"
      ]
    },
    {
      "cell_type": "markdown",
      "source": [
        "# Ambientação\n",
        "1. Instalação\n",
        "2. Importação\n",
        "3. Objeto Goose\n",
        "4. URL\n"
      ],
      "metadata": {
        "id": "jc2AjEC32Iww"
      }
    },
    {
      "cell_type": "code",
      "execution_count": 16,
      "metadata": {
        "colab": {
          "base_uri": "https://localhost:8080/"
        },
        "id": "jta55fKxyPxn",
        "outputId": "c7e42643-eb6c-426b-95f9-6ba9ea6d082c"
      },
      "outputs": [
        {
          "output_type": "stream",
          "name": "stdout",
          "text": [
            "Requirement already satisfied: goose3 in /usr/local/lib/python3.10/dist-packages (3.1.19)\n",
            "Requirement already satisfied: requests in /usr/local/lib/python3.10/dist-packages (from goose3) (2.32.3)\n",
            "Requirement already satisfied: Pillow in /usr/local/lib/python3.10/dist-packages (from goose3) (9.4.0)\n",
            "Requirement already satisfied: lxml in /usr/local/lib/python3.10/dist-packages (from goose3) (4.9.4)\n",
            "Requirement already satisfied: cssselect in /usr/local/lib/python3.10/dist-packages (from goose3) (1.2.0)\n",
            "Requirement already satisfied: beautifulsoup4 in /usr/local/lib/python3.10/dist-packages (from goose3) (4.12.3)\n",
            "Requirement already satisfied: python-dateutil in /usr/local/lib/python3.10/dist-packages (from goose3) (2.8.2)\n",
            "Requirement already satisfied: langdetect in /usr/local/lib/python3.10/dist-packages (from goose3) (1.0.9)\n",
            "Requirement already satisfied: pyahocorasick in /usr/local/lib/python3.10/dist-packages (from goose3) (2.1.0)\n",
            "Requirement already satisfied: soupsieve>1.2 in /usr/local/lib/python3.10/dist-packages (from beautifulsoup4->goose3) (2.6)\n",
            "Requirement already satisfied: six in /usr/local/lib/python3.10/dist-packages (from langdetect->goose3) (1.16.0)\n",
            "Requirement already satisfied: charset-normalizer<4,>=2 in /usr/local/lib/python3.10/dist-packages (from requests->goose3) (3.3.2)\n",
            "Requirement already satisfied: idna<4,>=2.5 in /usr/local/lib/python3.10/dist-packages (from requests->goose3) (3.8)\n",
            "Requirement already satisfied: urllib3<3,>=1.21.1 in /usr/local/lib/python3.10/dist-packages (from requests->goose3) (2.0.7)\n",
            "Requirement already satisfied: certifi>=2017.4.17 in /usr/local/lib/python3.10/dist-packages (from requests->goose3) (2024.8.30)\n"
          ]
        }
      ],
      "source": [
        "! pip install goose3\n"
      ]
    },
    {
      "cell_type": "code",
      "source": [
        "from goose3 import Goose\n",
        "\n"
      ],
      "metadata": {
        "id": "vhZGOc5Jz0tr"
      },
      "execution_count": 17,
      "outputs": []
    },
    {
      "cell_type": "code",
      "source": [
        "import nltk\n",
        "nltk . download ('punkt')\n",
        "\n",
        "# Criando um objeto da classe Goose\n",
        "# g é um objeto e Goose () - Construtor\n",
        "g = Goose()\n",
        "\n",
        "\n"
      ],
      "metadata": {
        "colab": {
          "base_uri": "https://localhost:8080/"
        },
        "id": "0wqItN4Cz9sB",
        "outputId": "f9fcfae4-4ef7-444a-b4e0-11e7d74c43da"
      },
      "execution_count": 18,
      "outputs": [
        {
          "output_type": "stream",
          "name": "stderr",
          "text": [
            "[nltk_data] Downloading package punkt to /root/nltk_data...\n",
            "[nltk_data]   Package punkt is already up-to-date!\n"
          ]
        }
      ]
    },
    {
      "cell_type": "code",
      "source": [
        "# Criar uma url\n",
        "url = \"https://www.scielo.br/j/ea/a/c4sqqrthGMS3ngdBhGWtKhh\""
      ],
      "metadata": {
        "id": "4OY3ooBx0uwi"
      },
      "execution_count": 19,
      "outputs": []
    },
    {
      "cell_type": "markdown",
      "source": [
        "# Fase de Extração\n",
        "1. extract(url)\n",
        "2. utilizar propriedades(caracteristicas ou atributos) e específicos de um artigo ( título, data, texto, meta-tags etc)\n",
        "3. web scraping\n",
        "4. direitos autorais"
      ],
      "metadata": {
        "id": "-RndwCfE2mqY"
      }
    },
    {
      "cell_type": "code",
      "source": [
        "# Extraindo\n",
        "artigo = g.extract(url)"
      ],
      "metadata": {
        "id": "p8Ec90Ng3lYf"
      },
      "execution_count": 20,
      "outputs": []
    },
    {
      "cell_type": "code",
      "source": [
        "# Analisando o título\n",
        "artigo.title"
      ],
      "metadata": {
        "colab": {
          "base_uri": "https://localhost:8080/",
          "height": 35
        },
        "id": "NefDdX7U3s71",
        "outputId": "221ddbd4-0484-4c98-d62a-ccee50656191"
      },
      "execution_count": 21,
      "outputs": [
        {
          "output_type": "execute_result",
          "data": {
            "text/plain": [
              "'Inteligência Artificial e sociedade: avanços e riscos'"
            ],
            "application/vnd.google.colaboratory.intrinsic+json": {
              "type": "string"
            }
          },
          "metadata": {},
          "execution_count": 21
        }
      ]
    },
    {
      "cell_type": "code",
      "source": [
        "artigo.domain"
      ],
      "metadata": {
        "colab": {
          "base_uri": "https://localhost:8080/",
          "height": 35
        },
        "id": "taZrd-jg4Ops",
        "outputId": "da82a7f8-054a-4a97-fa12-97537c520dee"
      },
      "execution_count": 22,
      "outputs": [
        {
          "output_type": "execute_result",
          "data": {
            "text/plain": [
              "'www.scielo.br'"
            ],
            "application/vnd.google.colaboratory.intrinsic+json": {
              "type": "string"
            }
          },
          "metadata": {},
          "execution_count": 22
        }
      ]
    },
    {
      "cell_type": "code",
      "source": [
        "# meta_description\n",
        "artigo.meta_description"
      ],
      "metadata": {
        "colab": {
          "base_uri": "https://localhost:8080/",
          "height": 35
        },
        "id": "bYuUyFZf6fB6",
        "outputId": "9e560cc5-266e-48d2-ef93-98bde346d07b"
      },
      "execution_count": 23,
      "outputs": [
        {
          "output_type": "execute_result",
          "data": {
            "text/plain": [
              "''"
            ],
            "application/vnd.google.colaboratory.intrinsic+json": {
              "type": "string"
            }
          },
          "metadata": {},
          "execution_count": 23
        }
      ]
    },
    {
      "cell_type": "code",
      "source": [
        "# meta_enconding\n",
        "artigo.meta_encoding"
      ],
      "metadata": {
        "colab": {
          "base_uri": "https://localhost:8080/",
          "height": 35
        },
        "id": "2TZhuwpH6rWb",
        "outputId": "43ee9254-8c97-40f2-b663-d51974cea8cb"
      },
      "execution_count": 24,
      "outputs": [
        {
          "output_type": "execute_result",
          "data": {
            "text/plain": [
              "'utf-8'"
            ],
            "application/vnd.google.colaboratory.intrinsic+json": {
              "type": "string"
            }
          },
          "metadata": {},
          "execution_count": 24
        }
      ]
    },
    {
      "cell_type": "code",
      "source": [
        "# Qual o tipo de objeto artigo\n",
        "print(type(artigo))\n"
      ],
      "metadata": {
        "colab": {
          "base_uri": "https://localhost:8080/"
        },
        "id": "L-05YHz164jK",
        "outputId": "623d97a8-2d99-457c-b036-f4c877af556a"
      },
      "execution_count": 25,
      "outputs": [
        {
          "output_type": "stream",
          "name": "stdout",
          "text": [
            "<class 'goose3.article.Article'>\n"
          ]
        }
      ]
    },
    {
      "cell_type": "code",
      "source": [
        "# data de publicação\n",
        "artigo.publish_date"
      ],
      "metadata": {
        "id": "PSZGDrrc7DIi"
      },
      "execution_count": 26,
      "outputs": []
    },
    {
      "cell_type": "code",
      "source": [
        "artigo.links"
      ],
      "metadata": {
        "colab": {
          "base_uri": "https://localhost:8080/"
        },
        "id": "MrjN-FOE7VY6",
        "outputId": "0287516a-db92-4f60-a93c-02633e476df2"
      },
      "execution_count": 27,
      "outputs": [
        {
          "output_type": "execute_result",
          "data": {
            "text/plain": [
              "[]"
            ]
          },
          "metadata": {},
          "execution_count": 27
        }
      ]
    }
  ]
}